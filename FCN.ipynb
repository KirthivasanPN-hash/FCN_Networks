{
  "nbformat": 4,
  "nbformat_minor": 0,
  "metadata": {
    "colab": {
      "provenance": [],
      "mount_file_id": "1A6ANEwraG2N4-syMq8frITyd9y2Q8jI_",
      "authorship_tag": "ABX9TyP6wjUUcwVrI7HvrS0CxR9h",
      "include_colab_link": true
    },
    "kernelspec": {
      "name": "python3",
      "display_name": "Python 3"
    },
    "language_info": {
      "name": "python"
    }
  },
  "cells": [
    {
      "cell_type": "markdown",
      "metadata": {
        "id": "view-in-github",
        "colab_type": "text"
      },
      "source": [
        "<a href=\"https://colab.research.google.com/github/KirthivasanPN-hash/FCN_Networks/blob/main/FCN.ipynb\" target=\"_parent\"><img src=\"https://colab.research.google.com/assets/colab-badge.svg\" alt=\"Open In Colab\"/></a>"
      ]
    },
    {
      "cell_type": "code",
      "source": [
        "import pandas as pd\n",
        "import numpy as np\n",
        "from skimage.io import imread, imsave\n"
      ],
      "metadata": {
        "id": "nzf5MgH_7GBh"
      },
      "execution_count": null,
      "outputs": []
    },
    {
      "cell_type": "code",
      "execution_count": null,
      "metadata": {
        "id": "y3dDMJv2Jcre",
        "colab": {
          "base_uri": "https://localhost:8080/"
        },
        "outputId": "00eb4d78-9b50-44de-f721-f96a34ce2210"
      },
      "outputs": [
        {
          "output_type": "stream",
          "name": "stdout",
          "text": [
            "Looking in indexes: https://pypi.org/simple, https://us-python.pkg.dev/colab-wheels/public/simple/\n",
            "Requirement already satisfied: cython in /usr/local/lib/python3.7/dist-packages (0.29.32)\n",
            "Looking in indexes: https://pypi.org/simple, https://us-python.pkg.dev/colab-wheels/public/simple/\n",
            "Collecting git+https://github.com/lucasb-eyer/pydensecrf.git\n",
            "  Cloning https://github.com/lucasb-eyer/pydensecrf.git to /tmp/pip-req-build-7tlhc1g3\n",
            "  Running command git clone -q https://github.com/lucasb-eyer/pydensecrf.git /tmp/pip-req-build-7tlhc1g3\n",
            "  Installing build dependencies ... \u001b[?25l\u001b[?25hdone\n",
            "  Getting requirements to build wheel ... \u001b[?25l\u001b[?25hdone\n",
            "    Preparing wheel metadata ... \u001b[?25l\u001b[?25hdone\n",
            "Building wheels for collected packages: pydensecrf\n",
            "  Building wheel for pydensecrf (PEP 517) ... \u001b[?25l\u001b[?25hdone\n",
            "  Created wheel for pydensecrf: filename=pydensecrf-1.0rc2-cp37-cp37m-linux_x86_64.whl size=2781691 sha256=82166b8433099e05236b92bfc476bceab8c0ea59a7e1d204d2226eaca7c9eb77\n",
            "  Stored in directory: /tmp/pip-ephem-wheel-cache-ntmwknp7/wheels/c1/7e/80/99adc0b2f215180486e24dd9c700028343ba5f566514a0ef05\n",
            "Successfully built pydensecrf\n",
            "Installing collected packages: pydensecrf\n",
            "Successfully installed pydensecrf-1.0rc2\n"
          ]
        }
      ],
      "source": [
        "!pip install cython\n",
        "!pip install git+https://github.com/lucasb-eyer/pydensecrf.git\n",
        "from skimage.color import gray2rgb\n",
        "import matplotlib.pyplot as plt\n",
        "%matplotlib inline\n",
        "\n",
        "\n",
        "from pydensecrf.utils import unary_from_labels, create_pairwise_bilateral, create_pairwise_gaussian\n",
        "\n"
      ]
    },
    {
      "cell_type": "code",
      "source": [
        "import pydensecrf.densecrf as dcrf"
      ],
      "metadata": {
        "id": "KVCi6SJVkNLM"
      },
      "execution_count": null,
      "outputs": []
    },
    {
      "cell_type": "code",
      "source": [
        "\n",
        "\"\"\"\n",
        "Function which returns the labelled image after applying CRF\n",
        "\n",
        "\"\"\"\n",
        "\n",
        "#Original_image = Image which has to labelled\n",
        "#Annotated image = Which has been labelled by some technique( FCN in this case)\n",
        "#Output_image = The final output image after applying CRF\n",
        "#Use_2d = boolean variable \n",
        "#if use_2d = True specialised 2D fucntions will be applied\n",
        "#else Generic functions will be applied\n",
        "\n",
        "def crf(original_image, annotated_image,output_image, use_2d = True):\n",
        "    \n",
        "    # Converting annotated image to RGB if it is Gray scale\n",
        "    if(len(annotated_image.shape)<3):\n",
        "        annotated_image = gray2rgb(annotated_image)\n",
        "    \n",
        "    imsave(\"testing2.png\",annotated_image)\n",
        "        \n",
        "    #Converting the annotations RGB color to single 32 bit integer\n",
        "    annotated_label = annotated_image[:,:,0] + (annotated_image[:,:,1]<<8) + (annotated_image[:,:,2]<<16)\n",
        "    \n",
        "    # Convert the 32bit integer color to 0,1, 2, ... labels.\n",
        "    colors, labels = np.unique(annotated_label, return_inverse=True)\n",
        "    \n",
        "    #Creating a mapping back to 32 bit colors\n",
        "    colorize = np.empty((len(colors), 3), np.uint8)\n",
        "    colorize[:,0] = (colors & 0x0000FF)\n",
        "    colorize[:,1] = (colors & 0x00FF00) >> 8\n",
        "    colorize[:,2] = (colors & 0xFF0000) >> 16\n",
        "    \n",
        "    #Gives no of class labels in the annotated image\n",
        "    n_labels = len(set(labels.flat)) \n",
        "    \n",
        "    print(\"No of labels in the Image are \")\n",
        "    print(n_labels)\n",
        "    \n",
        "    \n",
        "    #Setting up the CRF model\n",
        "    if use_2d :\n",
        "        d = dcrf.DenseCRF2D(original_image.shape[1], original_image.shape[0], n_labels)\n",
        "\n",
        "        # get unary potentials (neg log probability)\n",
        "        U = unary_from_labels(labels, n_labels, gt_prob=0.7, zero_unsure=False)\n",
        "        d.setUnaryEnergy(U)\n",
        "\n",
        "        # This adds the color-independent term, features are the locations only.\n",
        "        d.addPairwiseGaussian(sxy=(3, 3), compat=3, kernel=dcrf.DIAG_KERNEL,\n",
        "                          normalization=dcrf.NORMALIZE_SYMMETRIC)\n",
        "\n",
        "        # This adds the color-dependent term, i.e. features are (x,y,r,g,b).\n",
        "        d.addPairwiseBilateral(sxy=(80, 80), srgb=(13, 13, 13), rgbim=original_image,\n",
        "                           compat=10,\n",
        "                           kernel=dcrf.DIAG_KERNEL,\n",
        "                           normalization=dcrf.NORMALIZE_SYMMETRIC)\n",
        "        \n",
        "    #Run Inference for 5 steps \n",
        "    Q = d.inference(5)\n",
        "\n",
        "    # Find out the most probable class for each pixel.\n",
        "    MAP = np.argmax(Q, axis=0)\n",
        "\n",
        "    # Convert the MAP (labels) back to the corresponding colors and save the image.\n",
        "    # Note that there is no \"unknown\" here anymore, no matter what we had at first.\n",
        "    MAP = colorize[MAP,:]\n",
        "    imsave(output_image,MAP.reshape(original_image.shape))\n",
        "    return MAP.reshape(original_image.shape)\n",
        "\n",
        "\n"
      ],
      "metadata": {
        "id": "oXsle2YdKeeu"
      },
      "execution_count": null,
      "outputs": []
    },
    {
      "cell_type": "code",
      "source": [
        "image = imread(\"\")"
      ],
      "metadata": {
        "id": "ULZ2a7PiKhul"
      },
      "execution_count": null,
      "outputs": []
    }
  ]
}